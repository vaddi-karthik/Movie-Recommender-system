{
 "cells": [
  {
   "cell_type": "code",
   "execution_count": 1,
   "id": "48ecb4b7",
   "metadata": {},
   "outputs": [
    {
     "name": "stdout",
     "output_type": "stream",
     "text": [
      "   movieId             title  userId  rating   timestamp\n",
      "0        1  Toy Story (1995)       1     4.0   964982703\n",
      "1        1  Toy Story (1995)       5     4.0   847434962\n",
      "2        1  Toy Story (1995)       7     4.5  1106635946\n",
      "3        1  Toy Story (1995)      15     2.5  1510577970\n",
      "4        1  Toy Story (1995)      17     4.5  1305696483\n"
     ]
    },
    {
     "name": "stderr",
     "output_type": "stream",
     "text": [
      "C:\\Users\\RAJESH\\AppData\\Local\\Programs\\Python\\Python37\\lib\\site-packages\\fuzzywuzzy\\fuzz.py:11: UserWarning: Using slow pure-python SequenceMatcher. Install python-Levenshtein to remove this warning\n",
      "  warnings.warn('Using slow pure-python SequenceMatcher. Install python-Levenshtein to remove this warning')\n"
     ]
    },
    {
     "data": {
      "text/plain": [
       "(3446, 5)"
      ]
     },
     "execution_count": 1,
     "metadata": {},
     "output_type": "execute_result"
    }
   ],
   "source": [
    "import pandas as pd\n",
    "import numpy as np\n",
    "from scipy.sparse import csr_matrix\n",
    "from sklearn.neighbors import NearestNeighbors\n",
    "from fuzzywuzzy import process\n",
    "from sklearn.metrics.pairwise import cosine_similarity\n",
    "\n",
    "movies_df=pd.read_csv('movies1.csv')\n",
    "ratings_df=pd.read_csv('ratings.csv')\n",
    "df=pd.merge(movies_df,ratings_df)\n",
    "print(df.head())\n",
    "mf=pd.DataFrame(df)\n",
    "mf.drop_duplicates(subset=\"movieId\",keep=False,inplace=True)\n",
    "# mf.drop_duplicates(subset=)\n",
    "# mf['movieId1']=mf.movieId.str.extract\n",
    "mf.shape"
   ]
  },
  {
   "cell_type": "code",
   "execution_count": 2,
   "id": "37ffb898",
   "metadata": {},
   "outputs": [],
   "source": [
    "mf.to_csv(\"Maon_movieNames.csv\")"
   ]
  },
  {
   "cell_type": "code",
   "execution_count": null,
   "id": "15e9cfa4",
   "metadata": {},
   "outputs": [],
   "source": []
  },
  {
   "cell_type": "code",
   "execution_count": 3,
   "id": "68568a56",
   "metadata": {},
   "outputs": [],
   "source": [
    "df.to_csv('file1.csv')"
   ]
  },
  {
   "cell_type": "code",
   "execution_count": 4,
   "id": "072e0b42",
   "metadata": {},
   "outputs": [
    {
     "data": {
      "text/plain": [
       "NearestNeighbors(algorithm='brute', metric='cosine', n_neighbors=20)"
      ]
     },
     "execution_count": 4,
     "metadata": {},
     "output_type": "execute_result"
    }
   ],
   "source": [
    "m1=df.pivot_table(index='movieId',columns='userId',values='rating').fillna(0)\n",
    "movie_mat=csr_matrix(m1.values)\n",
    "model_knn=NearestNeighbors(metric='cosine',algorithm='brute',n_neighbors=20)\n",
    "model_knn.fit(movie_mat)"
   ]
  },
  {
   "cell_type": "code",
   "execution_count": 46,
   "id": "05100219",
   "metadata": {},
   "outputs": [
    {
     "name": "stdout",
     "output_type": "stream",
     "text": [
      "Movie_selected:  Waiting to Exhale (1995) Index:  3\n",
      "Searching for Recommendations................\n",
      "3                                                  NaN\n",
      "100                            Before and After (1996)\n",
      "282                              Sum of Us, The (1994)\n",
      "160                                    Reckless (1995)\n",
      "218                          Jefferson in Paris (1995)\n",
      "586    Haunted World of Edward D. Wood Jr., The (1996)\n",
      "187                                   Cure, The (1995)\n",
      "747                            Nothing Personal (1995)\n",
      "752                                       Bliss (1997)\n",
      "209                                       Gordy (1995)\n",
      "612                         Spirits of the Dead (1968)\n",
      "294                           Walking Dead, The (1995)\n",
      "50                                      Georgia (1995)\n",
      "248                          Nina Takes a Lover (1994)\n",
      "445                              Poetic Justice (1993)\n",
      "351                                Federal Hill (1994)\n",
      "317                         I Like It Like That (1994)\n",
      "589                                  Last Dance (1996)\n",
      "269                                  Rent-a-Kid (1995)\n",
      "169                                Three Wishes (1995)\n",
      "Name: title, dtype: object\n",
      "Flase\n",
      "Flase\n",
      "Flase\n",
      "Flase\n",
      "Flase\n",
      "Flase\n",
      "Flase\n",
      "Flase\n",
      "Flase\n",
      "Flase\n",
      "Flase\n",
      "Flase\n",
      "Flase\n",
      "Flase\n",
      "Flase\n",
      "Flase\n",
      "Flase\n",
      "Flase\n",
      "Flase\n",
      "Flase\n",
      "Flase\n",
      "Flase\n",
      "Flase\n",
      "Flase\n",
      "Flase\n",
      "Flase\n",
      "Flase\n",
      "Flase\n",
      "Flase\n",
      "Flase\n",
      "Flase\n",
      "Flase\n",
      "Flase\n",
      "Flase\n",
      "Flase\n",
      "Flase\n",
      "Flase\n",
      "Flase\n",
      "Flase\n",
      "Flase\n",
      "Flase\n",
      "Flase\n",
      "Flase\n",
      "Flase\n",
      "Flase\n",
      "Flase\n",
      "Flase\n",
      "Flase\n",
      "Flase\n",
      "Flase\n",
      "Flase\n",
      "Flase\n",
      "Flase\n",
      "Flase\n",
      "Flase\n",
      "Flase\n",
      "Flase\n",
      "Flase\n",
      "Flase\n",
      "Flase\n",
      "Flase\n",
      "Flase\n",
      "Flase\n",
      "True\n"
     ]
    }
   ],
   "source": [
    "def recommender(movie_name , data, model, n_recommendations):\n",
    "    model.fit(data)\n",
    "    idx=process.extractOne(movie_name,movies_df['title'])[2]\n",
    "    print('Movie_selected: ',movies_df['title'][idx],'Index: ',idx)\n",
    "    print(\"Searching for Recommendations................\")\n",
    "    distances,indices=model.kneighbors(data[idx],n_neighbors=n_recommendations)\n",
    "    for i in indices:\n",
    "        print(movies_df['title'][i].where (i!=idx))\n",
    "recommender('Waiting to Exhale',movie_mat,model_knn,20)\n",
    "\n",
    "def main():\n",
    "    for i in movies_df.index:\n",
    "        if 'Game' in movies_df['title'][i]:\n",
    "            print(\"True\")\n",
    "            break\n",
    "        else:\n",
    "            print(\"Flase\")\n",
    "# def main():\n",
    "#     if 'Game' in movies_df['title']:\n",
    "#         break\n",
    "#         print(\"True\")\n",
    "#     else:\n",
    "#         print(\"Flase\")\n",
    "main()"
   ]
  },
  {
   "cell_type": "code",
   "execution_count": null,
   "id": "40e62ea2",
   "metadata": {},
   "outputs": [],
   "source": []
  },
  {
   "cell_type": "code",
   "execution_count": null,
   "id": "ee172902",
   "metadata": {},
   "outputs": [],
   "source": []
  }
 ],
 "metadata": {
  "kernelspec": {
   "display_name": "Python 3 (ipykernel)",
   "language": "python",
   "name": "python3"
  },
  "language_info": {
   "codemirror_mode": {
    "name": "ipython",
    "version": 3
   },
   "file_extension": ".py",
   "mimetype": "text/x-python",
   "name": "python",
   "nbconvert_exporter": "python",
   "pygments_lexer": "ipython3",
   "version": "3.7.2"
  }
 },
 "nbformat": 4,
 "nbformat_minor": 5
}
