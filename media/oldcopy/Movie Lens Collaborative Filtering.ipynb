{
 "cells": [
  {
   "cell_type": "code",
   "execution_count": 1,
   "metadata": {},
   "outputs": [],
   "source": [
    "import pandas as pd\n",
    "from scipy import sparse"
   ]
  },
  {
   "cell_type": "code",
   "execution_count": 2,
   "metadata": {},
   "outputs": [
    {
     "name": "stdout",
     "output_type": "stream",
     "text": [
      "(100836, 4)\n"
     ]
    }
   ],
   "source": [
    "ratings = pd.read_csv('ratings.csv')\n",
    "movies = pd.read_csv('movies.csv')\n",
    "ratings = pd.merge(movies,ratings).drop(['genres','timestamp'],axis=1)\n",
    "print(ratings.shape)\n",
    "# ratings['title'].unique().shape"
   ]
  },
  {
   "cell_type": "code",
   "execution_count": 3,
   "metadata": {},
   "outputs": [
    {
     "name": "stdout",
     "output_type": "stream",
     "text": [
      "Before:  (610, 9719)\n",
      "After:  (610, 2269)\n"
     ]
    }
   ],
   "source": [
    "userRatings = ratings.pivot_table(index=['userId'],columns=['title'],values='rating')\n",
    "userRatings.head()\n",
    "print(\"Before: \",userRatings.shape)\n",
    "userRatings = userRatings.dropna(thresh=10, axis=1).fillna(0,axis=1)\n",
    "#userRatings.fillna(0, inplace=True)\n",
    "print(\"After: \",userRatings.shape)"
   ]
  },
  {
   "cell_type": "code",
   "execution_count": 13,
   "metadata": {},
   "outputs": [
    {
     "name": "stdout",
     "output_type": "stream",
     "text": [
      "Index([''burbs, The (1989)', '(500) Days of Summer (2009)',\n",
      "       '10 Cloverfield Lane (2016)', '10 Things I Hate About You (1999)',\n",
      "       '10,000 BC (2008)', '101 Dalmatians (1996)',\n",
      "       '101 Dalmatians (One Hundred and One Dalmatians) (1961)',\n",
      "       '12 Angry Men (1957)', '12 Years a Slave (2013)', '127 Hours (2010)',\n",
      "       ...\n",
      "       'Zack and Miri Make a Porno (2008)', 'Zero Dark Thirty (2012)',\n",
      "       'Zero Effect (1998)', 'Zodiac (2007)', 'Zombieland (2009)',\n",
      "       'Zoolander (2001)', 'Zootopia (2016)', 'eXistenZ (1999)', 'xXx (2002)',\n",
      "       '¡Three Amigos! (1986)'],\n",
      "      dtype='object', name='title', length=2269)\n",
      "False\n"
     ]
    }
   ],
   "source": [
    "corrMatrix = userRatings.corr(method='pearson')\n",
    "corrMatrix.head(100)\n",
    "print(corrMatrix.columns)\n",
    "\n",
    "# print(corrMatrix['title'].head())\n",
    "# print(corrMatrix['Index'].head())\n",
    "if 'Up in the Air' in corrMatrix.columns:\n",
    "    print(\"True\")\n",
    "else:\n",
    "    print(\"False\")"
   ]
  },
  {
   "cell_type": "code",
   "execution_count": 5,
   "metadata": {},
   "outputs": [],
   "source": [
    "def get_similar(movie_name,rating):\n",
    "    similar_ratings = corrMatrix[movie_name]*(rating-2.5)\n",
    "    similar_ratings = similar_ratings.sort_values(ascending=False)\n",
    "    return similar_ratings"
   ]
  },
  {
   "cell_type": "code",
   "execution_count": 15,
   "metadata": {},
   "outputs": [
    {
     "data": {
      "text/html": [
       "<div>\n",
       "<style scoped>\n",
       "    .dataframe tbody tr th:only-of-type {\n",
       "        vertical-align: middle;\n",
       "    }\n",
       "\n",
       "    .dataframe tbody tr th {\n",
       "        vertical-align: top;\n",
       "    }\n",
       "\n",
       "    .dataframe thead th {\n",
       "        text-align: right;\n",
       "    }\n",
       "</style>\n",
       "<table border=\"1\" class=\"dataframe\">\n",
       "  <thead>\n",
       "    <tr style=\"text-align: right;\">\n",
       "      <th></th>\n",
       "      <th>(500) Days of Summer (2009)</th>\n",
       "      <th>Silver Linings Playbook (2012)</th>\n",
       "      <th>Adventureland (2009)</th>\n",
       "      <th>Up in the Air (2009)</th>\n",
       "      <th>50/50 (2011)</th>\n",
       "      <th>Descendants, The (2011)</th>\n",
       "      <th>Crazy, Stupid, Love. (2011)</th>\n",
       "      <th>About Time (2013)</th>\n",
       "      <th>Toy Story 3 (2010)</th>\n",
       "      <th>Secret Life of Walter Mitty, The (2013)</th>\n",
       "      <th>...</th>\n",
       "      <th>Remains of the Day, The (1993)</th>\n",
       "      <th>Leaving Las Vegas (1995)</th>\n",
       "      <th>Grifters, The (1990)</th>\n",
       "      <th>English Patient, The (1996)</th>\n",
       "      <th>Dances with Wolves (1990)</th>\n",
       "      <th>Stargate (1994)</th>\n",
       "      <th>Madness of King George, The (1994)</th>\n",
       "      <th>Disclosure (1994)</th>\n",
       "      <th>Postman, The (Postino, Il) (1994)</th>\n",
       "      <th>Clear and Present Danger (1994)</th>\n",
       "    </tr>\n",
       "  </thead>\n",
       "  <tbody>\n",
       "    <tr>\n",
       "      <th>0</th>\n",
       "      <td>2.5</td>\n",
       "      <td>1.254898</td>\n",
       "      <td>1.157021</td>\n",
       "      <td>1.129961</td>\n",
       "      <td>1.12389</td>\n",
       "      <td>1.082774</td>\n",
       "      <td>1.076731</td>\n",
       "      <td>1.050643</td>\n",
       "      <td>1.050386</td>\n",
       "      <td>1.043048</td>\n",
       "      <td>...</td>\n",
       "      <td>-0.127058</td>\n",
       "      <td>-0.131261</td>\n",
       "      <td>-0.134995</td>\n",
       "      <td>-0.135628</td>\n",
       "      <td>-0.142231</td>\n",
       "      <td>-0.14287</td>\n",
       "      <td>-0.144495</td>\n",
       "      <td>-0.160575</td>\n",
       "      <td>-0.161373</td>\n",
       "      <td>-0.20981</td>\n",
       "    </tr>\n",
       "  </tbody>\n",
       "</table>\n",
       "<p>1 rows × 2269 columns</p>\n",
       "</div>"
      ],
      "text/plain": [
       "   (500) Days of Summer (2009)  Silver Linings Playbook (2012)  \\\n",
       "0                          2.5                        1.254898   \n",
       "\n",
       "   Adventureland (2009)  Up in the Air (2009)  50/50 (2011)  \\\n",
       "0              1.157021              1.129961       1.12389   \n",
       "\n",
       "   Descendants, The (2011)  Crazy, Stupid, Love. (2011)  About Time (2013)  \\\n",
       "0                 1.082774                     1.076731           1.050643   \n",
       "\n",
       "   Toy Story 3 (2010)  Secret Life of Walter Mitty, The (2013)  ...  \\\n",
       "0            1.050386                                 1.043048  ...   \n",
       "\n",
       "   Remains of the Day, The (1993)  Leaving Las Vegas (1995)  \\\n",
       "0                       -0.127058                 -0.131261   \n",
       "\n",
       "   Grifters, The (1990)  English Patient, The (1996)  \\\n",
       "0             -0.134995                    -0.135628   \n",
       "\n",
       "   Dances with Wolves (1990)  Stargate (1994)  \\\n",
       "0                  -0.142231         -0.14287   \n",
       "\n",
       "   Madness of King George, The (1994)  Disclosure (1994)  \\\n",
       "0                           -0.144495          -0.160575   \n",
       "\n",
       "   Postman, The (Postino, Il) (1994)  Clear and Present Danger (1994)  \n",
       "0                          -0.161373                         -0.20981  \n",
       "\n",
       "[1 rows x 2269 columns]"
      ]
     },
     "execution_count": 15,
     "metadata": {},
     "output_type": "execute_result"
    }
   ],
   "source": [
    "romantic_lover = [(\"(500) Days of Summer (2009)\",5)]\n",
    "similar_movies = pd.DataFrame()\n",
    "for movie,rating in romantic_lover:\n",
    "    similar_movies = similar_movies.append(get_similar(movie,rating),ignore_index = True)\n",
    "\n",
    "similar_movies.head(10)"
   ]
  },
  {
   "cell_type": "code",
   "execution_count": null,
   "metadata": {},
   "outputs": [],
   "source": []
  },
  {
   "cell_type": "code",
   "execution_count": null,
   "metadata": {},
   "outputs": [],
   "source": []
  },
  {
   "cell_type": "code",
   "execution_count": 7,
   "metadata": {
    "scrolled": true
   },
   "outputs": [
    {
     "data": {
      "text/plain": [
       "(500) Days of Summer (2009)                      2.584556\n",
       "Alice in Wonderland (2010)                       1.395229\n",
       "Silver Linings Playbook (2012)                   1.254800\n",
       "Yes Man (2008)                                   1.116264\n",
       "Adventureland (2009)                             1.112235\n",
       "Marley & Me (2008)                               1.108381\n",
       "About Time (2013)                                1.102192\n",
       "Crazy, Stupid, Love. (2011)                      1.088757\n",
       "50/50 (2011)                                     1.086517\n",
       "Help, The (2011)                                 1.075963\n",
       "Up in the Air (2009)                             1.053037\n",
       "Holiday, The (2006)                              1.034470\n",
       "Friends with Benefits (2011)                     1.030875\n",
       "Notebook, The (2004)                             1.025880\n",
       "Easy A (2010)                                    1.015771\n",
       "Secret Life of Walter Mitty, The (2013)          0.997979\n",
       "Perks of Being a Wallflower, The (2012)          0.967425\n",
       "Toy Story 3 (2010)                               0.963276\n",
       "Ugly Truth, The (2009)                           0.959079\n",
       "Harry Potter and the Half-Blood Prince (2009)    0.954180\n",
       "dtype: float64"
      ]
     },
     "execution_count": 7,
     "metadata": {},
     "output_type": "execute_result"
    }
   ],
   "source": [
    "similar_movies.sum().sort_values(ascending=False).head(20)"
   ]
  },
  {
   "cell_type": "code",
   "execution_count": 17,
   "metadata": {
    "scrolled": false
   },
   "outputs": [
    {
     "name": "stdout",
     "output_type": "stream",
     "text": [
      "Amazing Spider-Man, The (2012)                        2.500000\n",
      "Captain America: The First Avenger (2011)             1.370454\n",
      "Thor (2011)                                           1.324846\n",
      "Wreck-It Ralph (2012)                                 1.302965\n",
      "Star Trek Into Darkness (2013)                        1.301220\n",
      "The Hunger Games: Mockingjay - Part 1 (2014)          1.298310\n",
      "The Amazing Spider-Man 2 (2014)                       1.297114\n",
      "X-Men: First Class (2011)                             1.284405\n",
      "Tron: Legacy (2010)                                   1.268557\n",
      "Thor: The Dark World (2013)                           1.250917\n",
      "Doctor Strange (2016)                                 1.246629\n",
      "Monsters University (2013)                            1.236494\n",
      "Iron Man 2 (2010)                                     1.232572\n",
      "Pirates of the Caribbean: On Stranger Tides (2011)    1.227395\n",
      "Green Lantern (2011)                                  1.224993\n",
      "X-Men: Days of Future Past (2014)                     1.190486\n",
      "Men in Black III (M.III.B.) (M.I.B.³) (2012)          1.175398\n",
      "Despicable Me (2010)                                  1.168861\n",
      "Guardians of the Galaxy (2014)                        1.164433\n",
      "Kung Fu Panda 2 (2011)                                1.156715\n",
      "dtype: float64\n",
      "True\n"
     ]
    }
   ],
   "source": [
    "action_lover = [(\"Amazing Spider-Man, The (2012)\",5)]\n",
    "similar_movies = pd.DataFrame()\n",
    "for movie,rating in action_lover:\n",
    "    similar_movies = similar_movies.append(get_similar(movie,rating),ignore_index = True)\n",
    "\n",
    "similar_movies.head(10)\n",
    "print(similar_movies.sum().sort_values(ascending=False).head(20))\n",
    "def ckecking():\n",
    "    if \"Amazing Spider-Man, The (2012)\" in corrMatrix:\n",
    "        print(\"True\")\n",
    "    else:\n",
    "        print(\"False\")\n",
    "ckecking()\n"
   ]
  },
  {
   "cell_type": "code",
   "execution_count": null,
   "metadata": {},
   "outputs": [],
   "source": []
  },
  {
   "cell_type": "code",
   "execution_count": null,
   "metadata": {},
   "outputs": [],
   "source": []
  }
 ],
 "metadata": {
  "kernelspec": {
   "display_name": "Python 3 (ipykernel)",
   "language": "python",
   "name": "python3"
  },
  "language_info": {
   "codemirror_mode": {
    "name": "ipython",
    "version": 3
   },
   "file_extension": ".py",
   "mimetype": "text/x-python",
   "name": "python",
   "nbconvert_exporter": "python",
   "pygments_lexer": "ipython3",
   "version": "3.7.2"
  }
 },
 "nbformat": 4,
 "nbformat_minor": 2
}
